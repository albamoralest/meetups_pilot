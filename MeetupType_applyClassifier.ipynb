{
 "cells": [
  {
   "cell_type": "code",
   "execution_count": null,
   "id": "e77f8a86-007e-47bc-a61d-537659770f50",
   "metadata": {},
   "outputs": [],
   "source": []
  },
  {
   "cell_type": "code",
   "execution_count": 9,
   "id": "9bdd7fdd-98ee-46aa-8781-94e7b6d8ec20",
   "metadata": {},
   "outputs": [],
   "source": [
    "input_folder = 'indexedSentences/'\n",
    "output_folder = 'extractedMeetupTypes/'\n",
    "classifier = 'meetupType/models/MLPClassifier_2.clf'\n",
    "labels = ['Music making','Business meeting','Personal life','Coincidence','Public celebration','Education' ]  "
   ]
  },
  {
   "cell_type": "code",
   "execution_count": 5,
   "id": "b30e13ca-350b-4605-9958-3083551b8dff",
   "metadata": {},
   "outputs": [
    {
     "name": "stdout",
     "output_type": "stream",
     "text": [
      "Model loaded in  7.328191304999962\n"
     ]
    }
   ],
   "source": [
    "# Load transformer\n",
    "\n",
    "import time\n",
    "# Using the seed sentences as training set with a sentencebert based classifier\n",
    "# https://medium.com/dair-ai/tl-dr-sentencebert-8dec326daf4e\n",
    "# Models https://www.sbert.net/docs/pretrained_models.html\n",
    "# SBERT\n",
    "from sentence_transformers import SentenceTransformer \n",
    "t0 = time.monotonic()\n",
    "model = SentenceTransformer('all-mpnet-base-v2')\n",
    "t1 = time.monotonic()\n",
    "print('Model loaded in ', t1 - t0)\n",
    "#Sentences are encoded by calling model.encode() \n",
    "#X_train = model.encode(S_train)\n",
    "#t2 = time.monotonic()\n",
    "#print('Train embeddings produced in ', t2 - t1)"
   ]
  },
  {
   "cell_type": "code",
   "execution_count": 6,
   "id": "6e8708f8-736b-4911-a231-da210e92c46c",
   "metadata": {},
   "outputs": [],
   "source": [
    "import pickle\n",
    "# Load the classifier\n",
    "clf = pickle.load(open(classifier, 'rb'))"
   ]
  },
  {
   "cell_type": "code",
   "execution_count": 7,
   "id": "00c92eb4-16d3-4786-967d-8dd76b1bc49b",
   "metadata": {},
   "outputs": [],
   "source": [
    "# Classify sentences in files\n",
    "Sentences = model.encode([\"Yesterday he met John Coltrane and they played together all the night.\"])\n",
    "out =  clf.predict_proba(Sentences)"
   ]
  },
  {
   "cell_type": "code",
   "execution_count": 8,
   "id": "80bba728-b8d0-4fc1-8c7b-839c42f7d851",
   "metadata": {},
   "outputs": [
    {
     "name": "stdout",
     "output_type": "stream",
     "text": [
      "[[3.7287751e-12 1.0000000e+00 1.0827076e-13 6.1008314e-09 1.6575325e-13\n",
      "  3.0327780e-13]]\n"
     ]
    }
   ],
   "source": [
    "print(out)"
   ]
  },
  {
   "cell_type": "code",
   "execution_count": 11,
   "id": "1ff2b11e-46a3-4860-b49b-e9281b2d6f73",
   "metadata": {},
   "outputs": [
    {
     "data": {
      "text/html": [
       "<div>\n",
       "<style scoped>\n",
       "    .dataframe tbody tr th:only-of-type {\n",
       "        vertical-align: middle;\n",
       "    }\n",
       "\n",
       "    .dataframe tbody tr th {\n",
       "        vertical-align: top;\n",
       "    }\n",
       "\n",
       "    .dataframe thead th {\n",
       "        text-align: right;\n",
       "    }\n",
       "</style>\n",
       "<table border=\"1\" class=\"dataframe\">\n",
       "  <thead>\n",
       "    <tr style=\"text-align: right;\">\n",
       "      <th></th>\n",
       "      <th>Sentence</th>\n",
       "      <th>Business meeting</th>\n",
       "      <th>Coincidence</th>\n",
       "      <th>Education</th>\n",
       "      <th>Music making</th>\n",
       "      <th>Personal life</th>\n",
       "      <th>Public celebration</th>\n",
       "    </tr>\n",
       "  </thead>\n",
       "  <tbody>\n",
       "    <tr>\n",
       "      <th>0</th>\n",
       "      <td>[-0.03291308, 0.041810304, -0.0051425914, 0.00...</td>\n",
       "      <td>0.000</td>\n",
       "      <td>1.000</td>\n",
       "      <td>0.000</td>\n",
       "      <td>0.000</td>\n",
       "      <td>0.000</td>\n",
       "      <td>0.000</td>\n",
       "    </tr>\n",
       "  </tbody>\n",
       "</table>\n",
       "</div>"
      ],
      "text/plain": [
       "                                            Sentence  Business meeting  \\\n",
       "0  [-0.03291308, 0.041810304, -0.0051425914, 0.00...             0.000   \n",
       "\n",
       "   Coincidence  Education  Music making  Personal life  Public celebration  \n",
       "0        1.000      0.000         0.000          0.000               0.000  "
      ]
     },
     "execution_count": 11,
     "metadata": {},
     "output_type": "execute_result"
    }
   ],
   "source": [
    "import numpy\n",
    "import pandas as pd\n",
    "#proba = clf.predict_proba(X_test)\n",
    "proba = out\n",
    "#print(zip(proba[:10]))\n",
    "output_proba = []\n",
    "for index, item in enumerate(Sentences):\n",
    "    #print(ix[0][0],proba[index])\n",
    "    #print([sentences[int(ix[0][0])]], proba[index])\n",
    "    #print(item,y_test[index])\n",
    "    output_proba.append([item] + list(proba[index]))\n",
    "    #break\n",
    "\n",
    "#print(senten1)\n",
    "pd.set_option('display.float_format', lambda x: '%.3f' % x)\n",
    "df = pd.DataFrame(output_proba, columns=['Sentence']+sorted(labels))\n",
    "df"
   ]
  },
  {
   "cell_type": "code",
   "execution_count": null,
   "id": "5b84578c-ed18-40ae-b6ed-34c81775a9a6",
   "metadata": {},
   "outputs": [],
   "source": []
  }
 ],
 "metadata": {
  "kernelspec": {
   "display_name": "Python 3 (ipykernel)",
   "language": "python",
   "name": "python3"
  },
  "language_info": {
   "codemirror_mode": {
    "name": "ipython",
    "version": 3
   },
   "file_extension": ".py",
   "mimetype": "text/x-python",
   "name": "python",
   "nbconvert_exporter": "python",
   "pygments_lexer": "ipython3",
   "version": "3.8.5"
  }
 },
 "nbformat": 4,
 "nbformat_minor": 5
}
