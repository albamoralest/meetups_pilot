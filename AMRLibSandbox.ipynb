{
 "cells": [
  {
   "cell_type": "code",
   "execution_count": 1,
   "id": "43c058cd-1f11-4d69-bf38-28abdfc377d5",
   "metadata": {},
   "outputs": [
    {
     "name": "stdout",
     "output_type": "stream",
     "text": [
      "Requirement already satisfied: en-core-web-sm==3.2.0 from https://github.com/explosion/spacy-models/releases/download/en_core_web_sm-3.2.0/en_core_web_sm-3.2.0-py3-none-any.whl#egg=en_core_web_sm==3.2.0 in ./.python3/lib/python3.8/site-packages (3.2.0)\n",
      "Requirement already satisfied: spacy<3.3.0,>=3.2.0 in ./.python3/lib/python3.8/site-packages (from en-core-web-sm==3.2.0) (3.2.1)\n",
      "Requirement already satisfied: jinja2 in ./.python3/lib/python3.8/site-packages (from spacy<3.3.0,>=3.2.0->en-core-web-sm==3.2.0) (3.0.3)\n",
      "Requirement already satisfied: cymem<2.1.0,>=2.0.2 in ./.python3/lib/python3.8/site-packages (from spacy<3.3.0,>=3.2.0->en-core-web-sm==3.2.0) (2.0.6)\n",
      "Requirement already satisfied: pydantic!=1.8,!=1.8.1,<1.9.0,>=1.7.4 in ./.python3/lib/python3.8/site-packages (from spacy<3.3.0,>=3.2.0->en-core-web-sm==3.2.0) (1.8.2)\n",
      "Requirement already satisfied: pathy>=0.3.5 in ./.python3/lib/python3.8/site-packages (from spacy<3.3.0,>=3.2.0->en-core-web-sm==3.2.0) (0.6.1)\n",
      "Requirement already satisfied: srsly<3.0.0,>=2.4.1 in ./.python3/lib/python3.8/site-packages (from spacy<3.3.0,>=3.2.0->en-core-web-sm==3.2.0) (2.4.2)\n",
      "Requirement already satisfied: murmurhash<1.1.0,>=0.28.0 in ./.python3/lib/python3.8/site-packages (from spacy<3.3.0,>=3.2.0->en-core-web-sm==3.2.0) (1.0.6)\n",
      "Requirement already satisfied: requests<3.0.0,>=2.13.0 in ./.python3/lib/python3.8/site-packages (from spacy<3.3.0,>=3.2.0->en-core-web-sm==3.2.0) (2.27.1)\n",
      "Requirement already satisfied: langcodes<4.0.0,>=3.2.0 in ./.python3/lib/python3.8/site-packages (from spacy<3.3.0,>=3.2.0->en-core-web-sm==3.2.0) (3.3.0)\n",
      "Requirement already satisfied: thinc<8.1.0,>=8.0.12 in ./.python3/lib/python3.8/site-packages (from spacy<3.3.0,>=3.2.0->en-core-web-sm==3.2.0) (8.0.13)\n",
      "Requirement already satisfied: tqdm<5.0.0,>=4.38.0 in ./.python3/lib/python3.8/site-packages (from spacy<3.3.0,>=3.2.0->en-core-web-sm==3.2.0) (4.62.3)\n",
      "Requirement already satisfied: blis<0.8.0,>=0.4.0 in ./.python3/lib/python3.8/site-packages (from spacy<3.3.0,>=3.2.0->en-core-web-sm==3.2.0) (0.7.5)\n",
      "Requirement already satisfied: catalogue<2.1.0,>=2.0.6 in ./.python3/lib/python3.8/site-packages (from spacy<3.3.0,>=3.2.0->en-core-web-sm==3.2.0) (2.0.6)\n",
      "Requirement already satisfied: typer<0.5.0,>=0.3.0 in ./.python3/lib/python3.8/site-packages (from spacy<3.3.0,>=3.2.0->en-core-web-sm==3.2.0) (0.4.0)\n",
      "Requirement already satisfied: spacy-legacy<3.1.0,>=3.0.8 in ./.python3/lib/python3.8/site-packages (from spacy<3.3.0,>=3.2.0->en-core-web-sm==3.2.0) (3.0.8)\n",
      "Requirement already satisfied: setuptools in ./.python3/lib/python3.8/site-packages (from spacy<3.3.0,>=3.2.0->en-core-web-sm==3.2.0) (47.1.0)\n",
      "Requirement already satisfied: preshed<3.1.0,>=3.0.2 in ./.python3/lib/python3.8/site-packages (from spacy<3.3.0,>=3.2.0->en-core-web-sm==3.2.0) (3.0.6)\n",
      "Requirement already satisfied: spacy-loggers<2.0.0,>=1.0.0 in ./.python3/lib/python3.8/site-packages (from spacy<3.3.0,>=3.2.0->en-core-web-sm==3.2.0) (1.0.1)\n",
      "Requirement already satisfied: wasabi<1.1.0,>=0.8.1 in ./.python3/lib/python3.8/site-packages (from spacy<3.3.0,>=3.2.0->en-core-web-sm==3.2.0) (0.9.0)\n",
      "Requirement already satisfied: packaging>=20.0 in ./.python3/lib/python3.8/site-packages (from spacy<3.3.0,>=3.2.0->en-core-web-sm==3.2.0) (21.3)\n",
      "Requirement already satisfied: numpy>=1.15.0 in ./.python3/lib/python3.8/site-packages (from spacy<3.3.0,>=3.2.0->en-core-web-sm==3.2.0) (1.22.1)\n",
      "Requirement already satisfied: MarkupSafe>=2.0 in ./.python3/lib/python3.8/site-packages (from jinja2->spacy<3.3.0,>=3.2.0->en-core-web-sm==3.2.0) (2.0.1)\n",
      "Requirement already satisfied: typing-extensions>=3.7.4.3 in ./.python3/lib/python3.8/site-packages (from pydantic!=1.8,!=1.8.1,<1.9.0,>=1.7.4->spacy<3.3.0,>=3.2.0->en-core-web-sm==3.2.0) (4.0.1)\n",
      "Requirement already satisfied: smart-open<6.0.0,>=5.0.0 in ./.python3/lib/python3.8/site-packages (from pathy>=0.3.5->spacy<3.3.0,>=3.2.0->en-core-web-sm==3.2.0) (5.2.1)\n",
      "Requirement already satisfied: urllib3<1.27,>=1.21.1 in ./.python3/lib/python3.8/site-packages (from requests<3.0.0,>=2.13.0->spacy<3.3.0,>=3.2.0->en-core-web-sm==3.2.0) (1.26.8)\n",
      "Requirement already satisfied: charset-normalizer~=2.0.0; python_version >= \"3\" in ./.python3/lib/python3.8/site-packages (from requests<3.0.0,>=2.13.0->spacy<3.3.0,>=3.2.0->en-core-web-sm==3.2.0) (2.0.10)\n",
      "Requirement already satisfied: certifi>=2017.4.17 in ./.python3/lib/python3.8/site-packages (from requests<3.0.0,>=2.13.0->spacy<3.3.0,>=3.2.0->en-core-web-sm==3.2.0) (2021.10.8)\n",
      "Requirement already satisfied: idna<4,>=2.5; python_version >= \"3\" in ./.python3/lib/python3.8/site-packages (from requests<3.0.0,>=2.13.0->spacy<3.3.0,>=3.2.0->en-core-web-sm==3.2.0) (3.3)\n",
      "Requirement already satisfied: click<9.0.0,>=7.1.1 in ./.python3/lib/python3.8/site-packages (from typer<0.5.0,>=0.3.0->spacy<3.3.0,>=3.2.0->en-core-web-sm==3.2.0) (8.0.3)\n",
      "Requirement already satisfied: pyparsing!=3.0.5,>=2.0.2 in ./.python3/lib/python3.8/site-packages (from packaging>=20.0->spacy<3.3.0,>=3.2.0->en-core-web-sm==3.2.0) (3.0.7)\n",
      "\u001b[33mWARNING: You are using pip version 20.1.1; however, version 22.1 is available.\n",
      "You should consider upgrading via the '/Users/ed4565/Development/polifonia/meetups_pilot/.python3/bin/python3 -m pip install --upgrade pip' command.\u001b[0m\n",
      "\u001b[38;5;2m✔ Download and installation successful\u001b[0m\n",
      "You can now load the package via spacy.load('en_core_web_sm')\n"
     ]
    }
   ],
   "source": [
    "!python3 -m spacy download en_core_web_sm"
   ]
  },
  {
   "cell_type": "code",
   "execution_count": 2,
   "id": "dec22c1f-0752-4266-9e75-822a45b6320f",
   "metadata": {},
   "outputs": [
    {
     "name": "stdout",
     "output_type": "stream",
     "text": [
      "Collecting amrlib\n",
      "  Downloading amrlib-0.7.1-py3-none-any.whl (354 kB)\n",
      "\u001b[K     |████████████████████████████████| 354 kB 702 kB/s eta 0:00:01\n",
      "\u001b[?25hRequirement already satisfied: torch>=1.6 in ./.python3/lib/python3.8/site-packages (from amrlib) (1.10.2)\n",
      "Requirement already satisfied: transformers>=3.0 in ./.python3/lib/python3.8/site-packages (from amrlib) (4.16.2)\n",
      "Collecting penman>=1.1.0\n",
      "  Using cached Penman-1.2.1-py3-none-any.whl (43 kB)\n",
      "Requirement already satisfied: tqdm in ./.python3/lib/python3.8/site-packages (from amrlib) (4.62.3)\n",
      "Requirement already satisfied: spacy>=2.0 in ./.python3/lib/python3.8/site-packages (from amrlib) (3.2.1)\n",
      "Collecting smatch\n",
      "  Using cached smatch-1.0.4.tar.gz (26 kB)\n",
      "  Installing build dependencies ... \u001b[?25ldone\n",
      "\u001b[?25h  Getting requirements to build wheel ... \u001b[?25ldone\n",
      "\u001b[?25h    Preparing wheel metadata ... \u001b[?25ldone\n",
      "\u001b[?25hRequirement already satisfied: numpy in ./.python3/lib/python3.8/site-packages (from amrlib) (1.22.1)\n",
      "Requirement already satisfied: typing-extensions in ./.python3/lib/python3.8/site-packages (from torch>=1.6->amrlib) (4.0.1)\n",
      "Requirement already satisfied: requests in ./.python3/lib/python3.8/site-packages (from transformers>=3.0->amrlib) (2.27.1)\n",
      "Requirement already satisfied: huggingface-hub<1.0,>=0.1.0 in ./.python3/lib/python3.8/site-packages (from transformers>=3.0->amrlib) (0.4.0)\n",
      "Requirement already satisfied: sacremoses in ./.python3/lib/python3.8/site-packages (from transformers>=3.0->amrlib) (0.0.47)\n",
      "Requirement already satisfied: pyyaml>=5.1 in ./.python3/lib/python3.8/site-packages (from transformers>=3.0->amrlib) (6.0)\n",
      "Requirement already satisfied: packaging>=20.0 in ./.python3/lib/python3.8/site-packages (from transformers>=3.0->amrlib) (21.3)\n",
      "Requirement already satisfied: tokenizers!=0.11.3,>=0.10.1 in ./.python3/lib/python3.8/site-packages (from transformers>=3.0->amrlib) (0.11.5)\n",
      "Requirement already satisfied: regex!=2019.12.17 in ./.python3/lib/python3.8/site-packages (from transformers>=3.0->amrlib) (2022.1.18)\n",
      "Requirement already satisfied: filelock in ./.python3/lib/python3.8/site-packages (from transformers>=3.0->amrlib) (3.6.0)\n",
      "Requirement already satisfied: wasabi<1.1.0,>=0.8.1 in ./.python3/lib/python3.8/site-packages (from spacy>=2.0->amrlib) (0.9.0)\n",
      "Requirement already satisfied: cymem<2.1.0,>=2.0.2 in ./.python3/lib/python3.8/site-packages (from spacy>=2.0->amrlib) (2.0.6)\n",
      "Requirement already satisfied: typer<0.5.0,>=0.3.0 in ./.python3/lib/python3.8/site-packages (from spacy>=2.0->amrlib) (0.4.0)\n",
      "Requirement already satisfied: spacy-legacy<3.1.0,>=3.0.8 in ./.python3/lib/python3.8/site-packages (from spacy>=2.0->amrlib) (3.0.8)\n",
      "Requirement already satisfied: catalogue<2.1.0,>=2.0.6 in ./.python3/lib/python3.8/site-packages (from spacy>=2.0->amrlib) (2.0.6)\n",
      "Requirement already satisfied: blis<0.8.0,>=0.4.0 in ./.python3/lib/python3.8/site-packages (from spacy>=2.0->amrlib) (0.7.5)\n",
      "Requirement already satisfied: spacy-loggers<2.0.0,>=1.0.0 in ./.python3/lib/python3.8/site-packages (from spacy>=2.0->amrlib) (1.0.1)\n",
      "Requirement already satisfied: thinc<8.1.0,>=8.0.12 in ./.python3/lib/python3.8/site-packages (from spacy>=2.0->amrlib) (8.0.13)\n",
      "Requirement already satisfied: setuptools in ./.python3/lib/python3.8/site-packages (from spacy>=2.0->amrlib) (47.1.0)\n",
      "Requirement already satisfied: langcodes<4.0.0,>=3.2.0 in ./.python3/lib/python3.8/site-packages (from spacy>=2.0->amrlib) (3.3.0)\n",
      "Requirement already satisfied: jinja2 in ./.python3/lib/python3.8/site-packages (from spacy>=2.0->amrlib) (3.0.3)\n",
      "Requirement already satisfied: pydantic!=1.8,!=1.8.1,<1.9.0,>=1.7.4 in ./.python3/lib/python3.8/site-packages (from spacy>=2.0->amrlib) (1.8.2)\n",
      "Requirement already satisfied: murmurhash<1.1.0,>=0.28.0 in ./.python3/lib/python3.8/site-packages (from spacy>=2.0->amrlib) (1.0.6)\n",
      "Requirement already satisfied: pathy>=0.3.5 in ./.python3/lib/python3.8/site-packages (from spacy>=2.0->amrlib) (0.6.1)\n",
      "Requirement already satisfied: srsly<3.0.0,>=2.4.1 in ./.python3/lib/python3.8/site-packages (from spacy>=2.0->amrlib) (2.4.2)\n",
      "Requirement already satisfied: preshed<3.1.0,>=3.0.2 in ./.python3/lib/python3.8/site-packages (from spacy>=2.0->amrlib) (3.0.6)\n",
      "Requirement already satisfied: charset-normalizer~=2.0.0; python_version >= \"3\" in ./.python3/lib/python3.8/site-packages (from requests->transformers>=3.0->amrlib) (2.0.10)\n",
      "Requirement already satisfied: idna<4,>=2.5; python_version >= \"3\" in ./.python3/lib/python3.8/site-packages (from requests->transformers>=3.0->amrlib) (3.3)\n",
      "Requirement already satisfied: urllib3<1.27,>=1.21.1 in ./.python3/lib/python3.8/site-packages (from requests->transformers>=3.0->amrlib) (1.26.8)\n",
      "Requirement already satisfied: certifi>=2017.4.17 in ./.python3/lib/python3.8/site-packages (from requests->transformers>=3.0->amrlib) (2021.10.8)\n",
      "Requirement already satisfied: six in ./.python3/lib/python3.8/site-packages (from sacremoses->transformers>=3.0->amrlib) (1.16.0)\n",
      "Requirement already satisfied: click in ./.python3/lib/python3.8/site-packages (from sacremoses->transformers>=3.0->amrlib) (8.0.3)\n",
      "Requirement already satisfied: joblib in ./.python3/lib/python3.8/site-packages (from sacremoses->transformers>=3.0->amrlib) (1.1.0)\n",
      "Requirement already satisfied: pyparsing!=3.0.5,>=2.0.2 in ./.python3/lib/python3.8/site-packages (from packaging>=20.0->transformers>=3.0->amrlib) (3.0.7)\n",
      "Requirement already satisfied: MarkupSafe>=2.0 in ./.python3/lib/python3.8/site-packages (from jinja2->spacy>=2.0->amrlib) (2.0.1)\n",
      "Requirement already satisfied: smart-open<6.0.0,>=5.0.0 in ./.python3/lib/python3.8/site-packages (from pathy>=0.3.5->spacy>=2.0->amrlib) (5.2.1)\n",
      "Building wheels for collected packages: smatch\n",
      "  Building wheel for smatch (PEP 517) ... \u001b[?25ldone\n",
      "\u001b[?25h  Created wheel for smatch: filename=smatch-1.0.4-py3-none-any.whl size=24054 sha256=98d55936e84662cb1e5091371ddda12ca8cea9f77bfbf00566a0848c0b548cc5\n",
      "  Stored in directory: /Users/ed4565/Library/Caches/pip/wheels/2b/31/07/38dcb03f1a0e5238e116057a530542fbed6fe68d3c759e4635\n",
      "Successfully built smatch\n",
      "Installing collected packages: penman, smatch, amrlib\n",
      "Successfully installed amrlib-0.7.1 penman-1.2.1 smatch-1.0.4\n",
      "\u001b[33mWARNING: You are using pip version 20.1.1; however, version 22.1 is available.\n",
      "You should consider upgrading via the '/Users/ed4565/Development/polifonia/meetups_pilot/.python3/bin/python3 -m pip install --upgrade pip' command.\u001b[0m\n"
     ]
    }
   ],
   "source": [
    "!pip3 install amrlib\n"
   ]
  },
  {
   "cell_type": "code",
   "execution_count": 3,
   "id": "bd5fd3b1-6aa0-4c15-b1dc-71efb983cc64",
   "metadata": {},
   "outputs": [
    {
     "name": "stdout",
     "output_type": "stream",
     "text": [
      "Name: amrlib\n",
      "Version: 0.7.1\n",
      "Summary: A python library that makes AMR parsing, generation and visualization simple.\n",
      "Home-page: https://github.com/bjascob/amrlib\n",
      "Author: Brad Jascob\n",
      "Author-email: bjascob@msn.com\n",
      "License: UNKNOWN\n",
      "Location: /Users/ed4565/Development/polifonia/meetups_pilot/.python3/lib/python3.8/site-packages\n",
      "Requires: tqdm, smatch, transformers, numpy, spacy, torch, penman\n",
      "Required-by: \n"
     ]
    }
   ],
   "source": [
    "!pip3 show amrlib"
   ]
  },
  {
   "cell_type": "code",
   "execution_count": 8,
   "id": "5014a4ba-4285-44e2-ba1d-2a19b457895c",
   "metadata": {},
   "outputs": [
    {
     "name": "stdout",
     "output_type": "stream",
     "text": [
      "Collecting unidecode\n",
      "  Downloading Unidecode-1.3.4-py3-none-any.whl (235 kB)\n",
      "\u001b[K     |████████████████████████████████| 235 kB 6.4 MB/s eta 0:00:01\n",
      "\u001b[?25hInstalling collected packages: unidecode\n",
      "Successfully installed unidecode-1.3.4\n",
      "\u001b[33mWARNING: You are using pip version 20.1.1; however, version 22.1 is available.\n",
      "You should consider upgrading via the '/Users/ed4565/Development/polifonia/meetups_pilot/.python3/bin/python3 -m pip install --upgrade pip' command.\u001b[0m\n"
     ]
    }
   ],
   "source": [
    "!pip3 install unidecode"
   ]
  },
  {
   "cell_type": "code",
   "execution_count": 10,
   "id": "312ec84f-5ca8-426e-b6f1-6c5071a2b883",
   "metadata": {},
   "outputs": [
    {
     "name": "stdout",
     "output_type": "stream",
     "text": [
      "# ::snt After the band broke up, Pullum enrolled in the Univesity of York in 1968, graduating in 1972 with a Bachelor of Arts with first class honours.\n",
      "(e / enroll-01\n",
      "      :ARG1 (p / person\n",
      "            :name (n / name\n",
      "                  :op1 \"Pullum\"))\n",
      "      :ARG2 (u / university\n",
      "            :name (n2 / name\n",
      "                  :op1 \"Univesity\"\n",
      "                  :op2 \"of\"\n",
      "                  :op3 \"York\"))\n",
      "      :time (d / date-entity\n",
      "            :year 1968)\n",
      "      :time (a / after\n",
      "            :op1 (b / break-up-08\n",
      "                  :ARG1 (b2 / band)))\n",
      "      :ARG0-of (c / cause-01\n",
      "            :ARG1 (g / graduate-01\n",
      "                  :ARG1 p\n",
      "                  :ARG2 (d2 / degree\n",
      "                        :name (n3 / name\n",
      "                              :op1 \"Bachelor\"\n",
      "                              :op2 \"of\"\n",
      "                              :op3 \"Arts\"\n",
      "                              :op4 \"with\"\n",
      "                              :op5 \"Honours\")\n",
      "                        :mod (c2 / class\n",
      "                              :ord (o / ordinal-entity\n",
      "                                    :value 1)))\n",
      "                  :time (d3 / date-entity\n",
      "                        :year 1972))))\n"
     ]
    }
   ],
   "source": [
    "import amrlib\n",
    "stog = amrlib.load_stog_model()\n",
    "#graphs = stog.parse_sents(['This is a test of the system.', 'This is a second sentence.'])\n",
    "graphs = stog.parse_sents(['After the band broke up, Pullum enrolled in the Univesity of York in 1968, graduating in 1972 with a Bachelor of Arts with first class honours.'])\n",
    "for graph in graphs:\n",
    "    print(graph)"
   ]
  },
  {
   "cell_type": "code",
   "execution_count": null,
   "id": "ee581fbd-4c26-455e-8865-6e107d4827bc",
   "metadata": {},
   "outputs": [],
   "source": []
  }
 ],
 "metadata": {
  "kernelspec": {
   "display_name": "Python 3 (ipykernel)",
   "language": "python",
   "name": "python3"
  },
  "language_info": {
   "codemirror_mode": {
    "name": "ipython",
    "version": 3
   },
   "file_extension": ".py",
   "mimetype": "text/x-python",
   "name": "python",
   "nbconvert_exporter": "python",
   "pygments_lexer": "ipython3",
   "version": "3.8.5"
  }
 },
 "nbformat": 4,
 "nbformat_minor": 5
}
