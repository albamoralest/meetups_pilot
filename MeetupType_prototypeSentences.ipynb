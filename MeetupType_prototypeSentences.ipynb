{
 "cells": [
  {
   "cell_type": "markdown",
   "id": "821f2c63-52e0-43da-bf42-eef77ea6b906",
   "metadata": {},
   "source": [
    "# Meetup type: generation of training dataset\n",
    "\n",
    "Approach:\n",
    "\n",
    "- A curated list of keywords for each one of the meetup types\n",
    "- Randomly select sentences with those words from the corpus\n",
    "- Assign the relevant meetup type to each one of those sentences\n",
    "- Save to `outputFile`"
   ]
  },
  {
   "cell_type": "code",
   "execution_count": 1,
   "id": "45b7e354-d0ca-4d55-a768-b858e02be3d4",
   "metadata": {},
   "outputs": [],
   "source": [
    "# Input\n",
    "outputIndex = 2\n",
    "sample_size = 500\n",
    "outputFile = 'meetupType/prototypeSentences_' + str(outputIndex) + '.csv'"
   ]
  },
  {
   "cell_type": "code",
   "execution_count": 2,
   "id": "7833f920-4f6b-4695-a648-edd9c7afbdfd",
   "metadata": {},
   "outputs": [
    {
     "name": "stdout",
     "output_type": "stream",
     "text": [
      "{'Music making': ['Conduct', 'Perform', 'Join', 'Produce', 'Write', 'Sing', 'Play', 'Record'], 'Business meeting': ['Sign', 'Agree', 'Contract', 'Commit', 'Retire', 'Career', 'Hire', 'Debut'], 'Personal life': ['Born', 'Die', 'Marry', 'Divorce', 'Adult', 'Child', 'Elder', 'Young', 'Father', 'Mother', 'Family'], 'Coincidence': ['Meet', 'Stumble', 'Encounter', 'Find', 'Discover', 'Trigger'], 'Public celebration': ['Award', 'Ceremony', 'Marriage', 'Funeral', 'Public', 'Celebration'], 'Education': ['Learn', 'Teach', 'Mentor', 'Degree', 'University', 'Academia', 'Conservatoire']}\n"
     ]
    }
   ],
   "source": [
    "# Prepare seed terms for each meetup type\n",
    "\n",
    "meetup_types = {\"Music making\" : [\n",
    "\"Conduct\",\n",
    "\"Perform\",\n",
    "\"Join\",\n",
    "\"Produce\",\n",
    "\"Write\",\n",
    "\"Sing\",\n",
    "\"Play\",\n",
    "# \"Song\",\n",
    "\"Record\"],\n",
    "\"Business meeting\": [\n",
    "\"Sign\",\n",
    "\"Agree\",\n",
    "\"Contract\",\n",
    "\"Commit\",\n",
    "\"Retire\",\n",
    "\"Career\",\n",
    "\"Hire\",\n",
    "\"Debut\"],\n",
    "\"Personal life\": [\n",
    "\"Born\",\n",
    "\"Die\",\n",
    "\"Marry\",\n",
    "\"Divorce\",\n",
    "\"Adult\",\n",
    "\"Child\",\n",
    "\"Elder\",\n",
    "\"Young\",\n",
    "\"Father\",\n",
    "\"Mother\",\n",
    "\"Family\"],\n",
    "\"Coincidence\": [\n",
    "\"Meet\",\n",
    "\"Stumble\",\n",
    "\"Encounter\",\n",
    "\"Find\",\n",
    "\"Discover\",\n",
    "\"Trigger\"],\n",
    "\"Public celebration\": [\n",
    "\"Award\",\n",
    "\"Ceremony\",\n",
    "\"Marriage\",\n",
    "\"Funeral\",\n",
    "\"Public\",\n",
    "\"Celebration\"],\n",
    "\"Education\": [\n",
    "\"Learn\",\n",
    "\"Teach\",\n",
    "\"Mentor\",\n",
    "\"Degree\",\n",
    "\"University\",\n",
    "\"Academia\",\n",
    "\"Conservatoire\"]}\n",
    "\n",
    "print(meetup_types)\n",
    "\n"
   ]
  },
  {
   "cell_type": "code",
   "execution_count": 3,
   "id": "a3d87bb5-e7ab-4122-8cb4-556551ae2359",
   "metadata": {},
   "outputs": [],
   "source": [
    "# Gather prototype sentences and assign them to types\n",
    "#### Sentence -> lemmas -> match any seed\n",
    "# Compare query sentences with seed via sentence embeddings\n",
    "\n"
   ]
  },
  {
   "cell_type": "code",
   "execution_count": 4,
   "id": "3ea29055-8141-4c9a-88a8-17653a00d8f0",
   "metadata": {},
   "outputs": [
    {
     "name": "stdout",
     "output_type": "stream",
     "text": [
      "1002  files\n",
      "500  samples\n",
      "['indexedSentences/295286.csv', 'indexedSentences/1515991.csv', 'indexedSentences/156414.csv', 'indexedSentences/2308152.csv', 'indexedSentences/2928274.csv', 'indexedSentences/362109.csv', 'indexedSentences/1089533.csv', 'indexedSentences/623861.csv', 'indexedSentences/267627.csv', 'indexedSentences/833172.csv', 'indexedSentences/558968.csv', 'indexedSentences/1372632.csv', 'indexedSentences/1828359.csv', 'indexedSentences/1338619.csv', 'indexedSentences/141330.csv', 'indexedSentences/366362.csv', 'indexedSentences/788959.csv', 'indexedSentences/37931.csv', 'indexedSentences/3547359.csv', 'indexedSentences/1790990.csv', 'indexedSentences/3081864.csv', 'indexedSentences/1517676.csv', 'indexedSentences/820730.csv', 'indexedSentences/1354212.csv', 'indexedSentences/3136059.csv', 'indexedSentences/50798971.csv', 'indexedSentences/82413.csv', 'indexedSentences/50674114.csv', 'indexedSentences/1420817.csv', 'indexedSentences/782651.csv', 'indexedSentences/113049.csv', 'indexedSentences/379324.csv', 'indexedSentences/52929265.csv', 'indexedSentences/44309.csv', 'indexedSentences/221558.csv', 'indexedSentences/1394504.csv', 'indexedSentences/277090.csv', 'indexedSentences/806373.csv', 'indexedSentences/2833181.csv', 'indexedSentences/90447.csv', 'indexedSentences/708521.csv', 'indexedSentences/2850239.csv', 'indexedSentences/2253021.csv', 'indexedSentences/1471350.csv', 'indexedSentences/515447.csv', 'indexedSentences/320685.csv', 'indexedSentences/736528.csv', 'indexedSentences/3723757.csv', 'indexedSentences/439467.csv', 'indexedSentences/2811507.csv', 'indexedSentences/2682932.csv', 'indexedSentences/51129468.csv', 'indexedSentences/343176.csv', 'indexedSentences/277731.csv', 'indexedSentences/3358257.csv', 'indexedSentences/1351998.csv', 'indexedSentences/1000228.csv', 'indexedSentences/858538.csv', 'indexedSentences/1354841.csv', 'indexedSentences/747500.csv', 'indexedSentences/3779497.csv', 'indexedSentences/1384081.csv', 'indexedSentences/52269.csv', 'indexedSentences/176912.csv', 'indexedSentences/17902.csv', 'indexedSentences/1799252.csv', 'indexedSentences/3291750.csv', 'indexedSentences/877017.csv', 'indexedSentences/143114.csv', 'indexedSentences/3514919.csv', 'indexedSentences/351206.csv', 'indexedSentences/701860.csv', 'indexedSentences/3799586.csv', 'indexedSentences/720273.csv', 'indexedSentences/393992.csv', 'indexedSentences/1396921.csv', 'indexedSentences/1178548.csv', 'indexedSentences/92450.csv', 'indexedSentences/950070.csv', 'indexedSentences/991714.csv', 'indexedSentences/922045.csv', 'indexedSentences/1097923.csv', 'indexedSentences/413210.csv', 'indexedSentences/248708.csv', 'indexedSentences/1070521.csv', 'indexedSentences/420376.csv', 'indexedSentences/1010943.csv', 'indexedSentences/1254005.csv', 'indexedSentences/1323952.csv', 'indexedSentences/1709914.csv', 'indexedSentences/1236563.csv', 'indexedSentences/1048151.csv', 'indexedSentences/1359335.csv', 'indexedSentences/1593203.csv', 'indexedSentences/207769.csv', 'indexedSentences/297375.csv', 'indexedSentences/470115.csv', 'indexedSentences/3263983.csv', 'indexedSentences/1850886.csv', 'indexedSentences/152097.csv', 'indexedSentences/49906.csv', 'indexedSentences/878467.csv', 'indexedSentences/1058567.csv', 'indexedSentences/787927.csv', 'indexedSentences/68308.csv', 'indexedSentences/356414.csv', 'indexedSentences/50963136.csv', 'indexedSentences/1028178.csv', 'indexedSentences/1733863.csv', 'indexedSentences/907187.csv', 'indexedSentences/20405.csv', 'indexedSentences/2484677.csv', 'indexedSentences/50643509.csv', 'indexedSentences/3700862.csv', 'indexedSentences/1232492.csv', 'indexedSentences/910077.csv', 'indexedSentences/916486.csv', 'indexedSentences/559163.csv', 'indexedSentences/240002.csv', 'indexedSentences/3373682.csv', 'indexedSentences/3478434.csv', 'indexedSentences/125311.csv', 'indexedSentences/175068.csv', 'indexedSentences/523975.csv', 'indexedSentences/155107.csv', 'indexedSentences/1291515.csv', 'indexedSentences/3585224.csv', 'indexedSentences/2888557.csv', 'indexedSentences/3064783.csv', 'indexedSentences/52006456.csv', 'indexedSentences/762314.csv', 'indexedSentences/604066.csv', 'indexedSentences/1275454.csv', 'indexedSentences/1410438.csv', 'indexedSentences/52520413.csv', 'indexedSentences/1209484.csv', 'indexedSentences/2812504.csv', 'indexedSentences/1354646.csv', 'indexedSentences/868762.csv', 'indexedSentences/537467.csv', 'indexedSentences/1578500.csv', 'indexedSentences/2540996.csv', 'indexedSentences/345114.csv', 'indexedSentences/18571.csv', 'indexedSentences/984106.csv', 'indexedSentences/1093129.csv', 'indexedSentences/975107.csv', 'indexedSentences/833109.csv', 'indexedSentences/2980522.csv', 'indexedSentences/3180885.csv', 'indexedSentences/89644.csv', 'indexedSentences/3152159.csv', 'indexedSentences/2296293.csv', 'indexedSentences/540027.csv', 'indexedSentences/630138.csv', 'indexedSentences/2704521.csv', 'indexedSentences/140417.csv', 'indexedSentences/194903.csv', 'indexedSentences/1790603.csv', 'indexedSentences/265877.csv', 'indexedSentences/630312.csv', 'indexedSentences/2450365.csv', 'indexedSentences/1409780.csv', 'indexedSentences/670305.csv', 'indexedSentences/1115155.csv', 'indexedSentences/984155.csv', 'indexedSentences/331463.csv', 'indexedSentences/10671.csv', 'indexedSentences/226142.csv', 'indexedSentences/671985.csv', 'indexedSentences/3014192.csv', 'indexedSentences/752694.csv', 'indexedSentences/2558336.csv', 'indexedSentences/52926317.csv', 'indexedSentences/240340.csv', 'indexedSentences/2539541.csv', 'indexedSentences/1324135.csv', 'indexedSentences/290850.csv', 'indexedSentences/2659490.csv', 'indexedSentences/43165.csv', 'indexedSentences/1474046.csv', 'indexedSentences/1239372.csv', 'indexedSentences/52948521.csv', 'indexedSentences/2875914.csv', 'indexedSentences/3529094.csv', 'indexedSentences/54268.csv', 'indexedSentences/18434.csv', 'indexedSentences/1392224.csv', 'indexedSentences/208956.csv', 'indexedSentences/310022.csv', 'indexedSentences/46284.csv', 'indexedSentences/2351960.csv', 'indexedSentences/1517721.csv', 'indexedSentences/1547707.csv', 'indexedSentences/777623.csv', 'indexedSentences/984900.csv', 'indexedSentences/793333.csv', 'indexedSentences/264312.csv', 'indexedSentences/3130321.csv', 'indexedSentences/1103482.csv', 'indexedSentences/2579694.csv', 'indexedSentences/797572.csv', 'indexedSentences/529161.csv', 'indexedSentences/1413746.csv', 'indexedSentences/632683.csv', 'indexedSentences/2706137.csv', 'indexedSentences/2642841.csv', 'indexedSentences/51940478.csv', 'indexedSentences/140632.csv', 'indexedSentences/265883.csv', 'indexedSentences/1503167.csv', 'indexedSentences/754282.csv', 'indexedSentences/1059399.csv', 'indexedSentences/2553865.csv', 'indexedSentences/2790693.csv', 'indexedSentences/837456.csv', 'indexedSentences/481738.csv', 'indexedSentences/53408.csv', 'indexedSentences/3648861.csv', 'indexedSentences/1808209.csv', 'indexedSentences/51328130.csv', 'indexedSentences/2474795.csv', 'indexedSentences/1786533.csv', 'indexedSentences/3791501.csv', 'indexedSentences/364506.csv', 'indexedSentences/759988.csv', 'indexedSentences/1303365.csv', 'indexedSentences/562642.csv', 'indexedSentences/726151.csv', 'indexedSentences/1562492.csv', 'indexedSentences/67379.csv', 'indexedSentences/512497.csv', 'indexedSentences/926691.csv', 'indexedSentences/1164879.csv', 'indexedSentences/51997395.csv', 'indexedSentences/770812.csv', 'indexedSentences/1228021.csv', 'indexedSentences/2667661.csv', 'indexedSentences/3027978.csv', 'indexedSentences/562392.csv', 'indexedSentences/2780714.csv', 'indexedSentences/167790.csv', 'indexedSentences/312781.csv', 'indexedSentences/50734876.csv', 'indexedSentences/582519.csv', 'indexedSentences/1205991.csv', 'indexedSentences/3450382.csv', 'indexedSentences/1048172.csv', 'indexedSentences/1065532.csv', 'indexedSentences/936912.csv', 'indexedSentences/3280230.csv', 'indexedSentences/715167.csv', 'indexedSentences/577439.csv', 'indexedSentences/3740.csv', 'indexedSentences/347201.csv', 'indexedSentences/3488554.csv', 'indexedSentences/1391973.csv', 'indexedSentences/2864817.csv', 'indexedSentences/486934.csv', 'indexedSentences/3516152.csv', 'indexedSentences/1745996.csv', 'indexedSentences/52339228.csv', 'indexedSentences/1285387.csv', 'indexedSentences/1188821.csv', 'indexedSentences/1113588.csv', 'indexedSentences/1787782.csv', 'indexedSentences/1870977.csv', 'indexedSentences/1758122.csv', 'indexedSentences/340945.csv', 'indexedSentences/2451984.csv', 'indexedSentences/251481.csv', 'indexedSentences/741791.csv', 'indexedSentences/1540074.csv', 'indexedSentences/38910.csv', 'indexedSentences/2322673.csv', 'indexedSentences/52557970.csv', 'indexedSentences/346303.csv', 'indexedSentences/1013900.csv', 'indexedSentences/2579410.csv', 'indexedSentences/884153.csv', 'indexedSentences/192586.csv', 'indexedSentences/2738707.csv', 'indexedSentences/3517771.csv', 'indexedSentences/50929631.csv', 'indexedSentences/891723.csv', 'indexedSentences/1417421.csv', 'indexedSentences/1098118.csv', 'indexedSentences/3079914.csv', 'indexedSentences/1560872.csv', 'indexedSentences/579599.csv', 'indexedSentences/3535198.csv', 'indexedSentences/67892.csv', 'indexedSentences/2284844.csv', 'indexedSentences/354196.csv', 'indexedSentences/1174834.csv', 'indexedSentences/221191.csv', 'indexedSentences/1798531.csv', 'indexedSentences/3986.csv', 'indexedSentences/1175222.csv', 'indexedSentences/2694884.csv', 'indexedSentences/1142145.csv', 'indexedSentences/1599087.csv', 'indexedSentences/149935.csv', 'indexedSentences/2553132.csv', 'indexedSentences/1291198.csv', 'indexedSentences/354680.csv', 'indexedSentences/45968.csv', 'indexedSentences/2464424.csv', 'indexedSentences/88371.csv', 'indexedSentences/585649.csv', 'indexedSentences/298563.csv', 'indexedSentences/2865559.csv', 'indexedSentences/3460078.csv', 'indexedSentences/78231.csv', 'indexedSentences/777352.csv', 'indexedSentences/696261.csv', 'indexedSentences/648294.csv', 'indexedSentences/577944.csv', 'indexedSentences/1343880.csv', 'indexedSentences/277524.csv', 'indexedSentences/864356.csv', 'indexedSentences/399102.csv', 'indexedSentences/52266861.csv', 'indexedSentences/655613.csv', 'indexedSentences/984982.csv', 'indexedSentences/460378.csv', 'indexedSentences/1600435.csv', 'indexedSentences/2952161.csv', 'indexedSentences/70315.csv', 'indexedSentences/893552.csv', 'indexedSentences/1588479.csv', 'indexedSentences/63283.csv', 'indexedSentences/222192.csv', 'indexedSentences/734633.csv', 'indexedSentences/371868.csv', 'indexedSentences/874840.csv', 'indexedSentences/1107893.csv', 'indexedSentences/1322881.csv', 'indexedSentences/2236628.csv', 'indexedSentences/2343819.csv', 'indexedSentences/51301225.csv', 'indexedSentences/52267409.csv', 'indexedSentences/3075.csv', 'indexedSentences/505799.csv', 'indexedSentences/52527037.csv', 'indexedSentences/871709.csv', 'indexedSentences/581625.csv', 'indexedSentences/2657736.csv', 'indexedSentences/3155747.csv', 'indexedSentences/2563311.csv', 'indexedSentences/2335672.csv', 'indexedSentences/1189627.csv', 'indexedSentences/2755844.csv', 'indexedSentences/51264363.csv', 'indexedSentences/3026264.csv', 'indexedSentences/3225681.csv', 'indexedSentences/100273.csv', 'indexedSentences/1788051.csv', 'indexedSentences/897299.csv', 'indexedSentences/980182.csv', 'indexedSentences/886285.csv', 'indexedSentences/4737.csv', 'indexedSentences/51449857.csv', 'indexedSentences/3689332.csv', 'indexedSentences/51055506.csv', 'indexedSentences/50902387.csv', 'indexedSentences/3795474.csv', 'indexedSentences/766300.csv', 'indexedSentences/592841.csv', 'indexedSentences/70986.csv', 'indexedSentences/280945.csv', 'indexedSentences/472272.csv', 'indexedSentences/898417.csv', 'indexedSentences/3818460.csv', 'indexedSentences/1081839.csv', 'indexedSentences/3731062.csv', 'indexedSentences/1010510.csv', 'indexedSentences/553740.csv', 'indexedSentences/3696100.csv', 'indexedSentences/1354864.csv', 'indexedSentences/46038.csv', 'indexedSentences/459887.csv', 'indexedSentences/2985243.csv', 'indexedSentences/60626.csv', 'indexedSentences/413078.csv', 'indexedSentences/467101.csv', 'indexedSentences/618129.csv', 'indexedSentences/1439437.csv', 'indexedSentences/3419345.csv', 'indexedSentences/368130.csv', 'indexedSentences/50655124.csv', 'indexedSentences/1561641.csv', 'indexedSentences/772715.csv', 'indexedSentences/165113.csv', 'indexedSentences/577798.csv', 'indexedSentences/2911472.csv', 'indexedSentences/1113259.csv', 'indexedSentences/1571869.csv', 'indexedSentences/457755.csv', 'indexedSentences/363631.csv', 'indexedSentences/205720.csv', 'indexedSentences/1174545.csv', 'indexedSentences/1049483.csv', 'indexedSentences/1561694.csv', 'indexedSentences/1009725.csv', 'indexedSentences/2839253.csv', 'indexedSentences/164398.csv', 'indexedSentences/1876457.csv', 'indexedSentences/52811997.csv', 'indexedSentences/528624.csv', 'indexedSentences/1551249.csv', 'indexedSentences/879937.csv', 'indexedSentences/3227606.csv', 'indexedSentences/1127222.csv', 'indexedSentences/1453044.csv', 'indexedSentences/51130819.csv', 'indexedSentences/622305.csv', 'indexedSentences/290117.csv', 'indexedSentences/2296195.csv', 'indexedSentences/1709886.csv', 'indexedSentences/39467.csv', 'indexedSentences/1433411.csv', 'indexedSentences/525151.csv', 'indexedSentences/2269540.csv', 'indexedSentences/51012206.csv', 'indexedSentences/86939.csv', 'indexedSentences/3583583.csv', 'indexedSentences/1598663.csv', 'indexedSentences/3180265.csv', 'indexedSentences/481300.csv', 'indexedSentences/2656520.csv', 'indexedSentences/150095.csv', 'indexedSentences/63747.csv', 'indexedSentences/909222.csv', 'indexedSentences/702942.csv', 'indexedSentences/2750379.csv', 'indexedSentences/2871279.csv', 'indexedSentences/492026.csv', 'indexedSentences/874862.csv', 'indexedSentences/154191.csv', 'indexedSentences/1261779.csv', 'indexedSentences/652114.csv', 'indexedSentences/167975.csv', 'indexedSentences/1823012.csv', 'indexedSentences/1569660.csv', 'indexedSentences/2351271.csv', 'indexedSentences/3372135.csv', 'indexedSentences/1407035.csv', 'indexedSentences/472821.csv', 'indexedSentences/3190132.csv', 'indexedSentences/1186480.csv', 'indexedSentences/10085.csv', 'indexedSentences/18995.csv', 'indexedSentences/1551347.csv', 'indexedSentences/554770.csv', 'indexedSentences/1254002.csv', 'indexedSentences/670076.csv', 'indexedSentences/162348.csv', 'indexedSentences/214233.csv', 'indexedSentences/1346743.csv', 'indexedSentences/2872947.csv', 'indexedSentences/1400829.csv', 'indexedSentences/51560453.csv', 'indexedSentences/575924.csv', 'indexedSentences/1111730.csv', 'indexedSentences/1470710.csv', 'indexedSentences/306480.csv', 'indexedSentences/87603.csv', 'indexedSentences/652155.csv', 'indexedSentences/289669.csv', 'indexedSentences/861478.csv', 'indexedSentences/154959.csv', 'indexedSentences/699151.csv', 'indexedSentences/1310858.csv', 'indexedSentences/50916271.csv', 'indexedSentences/1092607.csv', 'indexedSentences/261534.csv', 'indexedSentences/2727386.csv', 'indexedSentences/164481.csv', 'indexedSentences/59216.csv', 'indexedSentences/606115.csv', 'indexedSentences/1244554.csv', 'indexedSentences/351996.csv', 'indexedSentences/3622246.csv', 'indexedSentences/63517.csv', 'indexedSentences/1077508.csv', 'indexedSentences/64598.csv', 'indexedSentences/2891853.csv', 'indexedSentences/1479807.csv', 'indexedSentences/1593504.csv', 'indexedSentences/3040579.csv', 'indexedSentences/1597545.csv', 'indexedSentences/707930.csv', 'indexedSentences/2448674.csv', 'indexedSentences/859482.csv', 'indexedSentences/274424.csv', 'indexedSentences/1372235.csv', 'indexedSentences/299412.csv', 'indexedSentences/3217228.csv', 'indexedSentences/855002.csv']\n"
     ]
    }
   ],
   "source": [
    "folder = \"indexedSentences\"\n",
    "import glob\n",
    "files = set(glob.glob(folder + \"/*\"))\n",
    "print(len(files), \" files\" )\n",
    "import random\n",
    "samples = random.sample(files, sample_size) # take n random biographies\n",
    "print(sample_size, \" samples\" )\n",
    "print(samples)"
   ]
  },
  {
   "cell_type": "code",
   "execution_count": 5,
   "id": "88ccb4b0-a323-41cc-aa14-c28a74de4546",
   "metadata": {},
   "outputs": [
    {
     "name": "stdout",
     "output_type": "stream",
     "text": [
      "True\n"
     ]
    }
   ],
   "source": [
    "# Look for sentences matching any seed\n",
    "# Using Spacy\n",
    "# Install spaCy (run in terminal/prompt)\n",
    "#import sys\n",
    "#!{sys.executable} -m pip install spacy\n",
    "#\n",
    "# Download spaCy's  'en' Model\n",
    "#!{sys.executable} -m spacy download en\n",
    "\n",
    "#### Sentence -> lemmas -> match any seed\n",
    "import spacy\n",
    "nlp = spacy.load('en_core_web_sm', disable=['parser', 'ner'])\n",
    "sentence = \"The striped bats are hanging on their feet for best\"\n",
    "doc = nlp(sentence)\n",
    "print(\"hang\" in [token.lemma_ for token in doc])\n",
    "#\n",
    "# For each meetup type, load sentences matching any of the seed terms, in order to get a dictionary of types and prototype sentences.\n",
    "# nlp in scope"
   ]
  },
  {
   "cell_type": "code",
   "execution_count": 6,
   "id": "974a66ba-74eb-4f33-bb57-b4bec988bcaf",
   "metadata": {},
   "outputs": [
    {
     "name": "stdout",
     "output_type": "stream",
     "text": [
      "{'Music making': ['conduct', 'perform', 'join', 'produce', 'write', 'sing', 'play', 'record'], 'Business meeting': ['sign', 'agree', 'contract', 'commit', 'retire', 'career', 'hire', 'debut'], 'Personal life': ['bear', 'die', 'marry', 'divorce', 'adult', 'child', 'elder', 'young', 'father', 'mother', 'family'], 'Coincidence': ['meet', 'stumble', 'encounter', 'find', 'discover', 'trigger'], 'Public celebration': ['award', 'ceremony', 'marriage', 'funeral', 'public', 'celebration'], 'Education': ['learn', 'teach', 'mentor', 'degree', 'university', 'academia', 'conservatoire']}\n",
      "Music making <class 'list'>\n",
      "Business meeting <class 'list'>\n",
      "Personal life <class 'list'>\n",
      "Coincidence <class 'list'>\n",
      "Public celebration <class 'list'>\n",
      "Education <class 'list'>\n"
     ]
    }
   ],
   "source": [
    "# nlp is in scope\n",
    "\n",
    "# Clean seeds\n",
    "for mtype, mseeds in meetup_types.items():\n",
    "    doc = nlp(\" \".join(mseeds).lower())\n",
    "    meetup_types[mtype] = [token.lemma_ for token in doc]\n",
    "\n",
    "print(meetup_types)\n",
    "for mtype, mseeds in meetup_types.items():\n",
    "    print(mtype, type(mseeds))"
   ]
  },
  {
   "cell_type": "code",
   "execution_count": 7,
   "id": "fe367ec3-8382-460b-8534-16dc1d2e2c40",
   "metadata": {},
   "outputs": [
    {
     "name": "stdout",
     "output_type": "stream",
     "text": [
      "14447\n"
     ]
    }
   ],
   "source": [
    "import csv\n",
    "\n",
    "#sample_file = samples[0]\n",
    "\n",
    "prototypeSentences = []\n",
    "for sample_file in samples:\n",
    "    with open(sample_file) as csv_file:\n",
    "        csv_reader = csv.reader(csv_file, delimiter=',')\n",
    "        line_count = 0\n",
    "        for row in csv_reader:\n",
    "            if line_count == 0:\n",
    "                #print(f'Column names are {\", \".join(row)}')\n",
    "                line_count += 1\n",
    "            else:\n",
    "                line_count += 1\n",
    "                #\n",
    "                text = row[0]\n",
    "                sentence = row[1]\n",
    "                paragraph = row[2]\n",
    "                section = row[3]\n",
    "                wikiId = row[4]\n",
    "                doc = nlp(text)\n",
    "                terms = [ token.lemma_ for token in doc ]\n",
    "                candidateTypes = {}\n",
    "                include = False\n",
    "                for mtype, mseeds in meetup_types.items():\n",
    "                    matchSeed = set(mseeds).intersection(set(terms))\n",
    "                    candidateTypes[mtype] = len(matchSeed) > 0\n",
    "                    if candidateTypes[mtype]:\n",
    "                        include = True\n",
    "                data = {}\n",
    "                if include:\n",
    "                    data[\"sentences\"] = text\n",
    "                    data[\"sentenceIndex\"] = sentence\n",
    "                    data[\"paragraphIndex\"] = paragraph\n",
    "                    data[\"section\"] = section\n",
    "                    data[\"file\"] = sample_file\n",
    "                    data[\"wikiId\"] = wikiId\n",
    "                    for mtype, match in candidateTypes.items():\n",
    "                        data[mtype] = match\n",
    "                    #print(data)\n",
    "                    prototypeSentences.append(data)\n",
    "print( len(prototypeSentences) )"
   ]
  },
  {
   "cell_type": "code",
   "execution_count": 8,
   "id": "d0a9bb3a-9c28-4c2d-b328-99f4b54d6ac0",
   "metadata": {},
   "outputs": [],
   "source": [
    "# Write prototypes to file\n",
    "columns = prototypeSentences[0].keys()\n",
    "\n",
    "with open(outputFile, 'w', newline='') as output_file:\n",
    "    dict_writer = csv.DictWriter(output_file,  fieldnames=columns)\n",
    "    dict_writer.writeheader()\n",
    "    dict_writer.writerows(prototypeSentences)"
   ]
  },
  {
   "cell_type": "code",
   "execution_count": 9,
   "id": "70e98026-eb32-4735-8b2f-9847c4f2d94a",
   "metadata": {},
   "outputs": [],
   "source": [
    "# print(prototypeSentences[1])\n",
    "# print(prototypeSentences[2])\n",
    "# print(prototypeSentences[3])"
   ]
  },
  {
   "cell_type": "code",
   "execution_count": null,
   "id": "970b3693-153c-4043-94f4-cccdf5c44361",
   "metadata": {},
   "outputs": [],
   "source": [
    "\n"
   ]
  }
 ],
 "metadata": {
  "kernelspec": {
   "display_name": "Python 3 (ipykernel)",
   "language": "python",
   "name": "python3"
  },
  "language_info": {
   "codemirror_mode": {
    "name": "ipython",
    "version": 3
   },
   "file_extension": ".py",
   "mimetype": "text/x-python",
   "name": "python",
   "nbconvert_exporter": "python",
   "pygments_lexer": "ipython3",
   "version": "3.9.7"
  },
  "toc-autonumbering": false
 },
 "nbformat": 4,
 "nbformat_minor": 5
}
